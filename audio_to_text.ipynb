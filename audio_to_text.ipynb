{
  "nbformat": 4,
  "nbformat_minor": 0,
  "metadata": {
    "colab": {
      "provenance": []
    },
    "kernelspec": {
      "name": "python3",
      "display_name": "Python 3"
    },
    "language_info": {
      "name": "python"
    }
  },
  "cells": [
    {
      "cell_type": "code",
      "execution_count": null,
      "metadata": {
        "colab": {
          "base_uri": "https://localhost:8080/"
        },
        "id": "3XQQCKOVbr_8",
        "outputId": "0438890c-7c5b-4446-cba6-e5946698eeb9"
      },
      "outputs": [
        {
          "output_type": "stream",
          "name": "stdout",
          "text": [
            "Collecting speechRecognition\n",
            "  Downloading SpeechRecognition-3.10.0-py2.py3-none-any.whl (32.8 MB)\n",
            "\u001b[2K     \u001b[90m━━━━━━━━━━━━━━━━━━━━━━━━━━━━━━━━━━━━━━━━\u001b[0m \u001b[32m32.8/32.8 MB\u001b[0m \u001b[31m38.2 MB/s\u001b[0m eta \u001b[36m0:00:00\u001b[0m\n",
            "\u001b[?25hRequirement already satisfied: requests>=2.26.0 in /usr/local/lib/python3.10/dist-packages (from speechRecognition) (2.31.0)\n",
            "Requirement already satisfied: charset-normalizer<4,>=2 in /usr/local/lib/python3.10/dist-packages (from requests>=2.26.0->speechRecognition) (3.3.0)\n",
            "Requirement already satisfied: idna<4,>=2.5 in /usr/local/lib/python3.10/dist-packages (from requests>=2.26.0->speechRecognition) (3.4)\n",
            "Requirement already satisfied: urllib3<3,>=1.21.1 in /usr/local/lib/python3.10/dist-packages (from requests>=2.26.0->speechRecognition) (2.0.6)\n",
            "Requirement already satisfied: certifi>=2017.4.17 in /usr/local/lib/python3.10/dist-packages (from requests>=2.26.0->speechRecognition) (2023.7.22)\n",
            "Installing collected packages: speechRecognition\n",
            "Successfully installed speechRecognition-3.10.0\n"
          ]
        }
      ],
      "source": [
        "!pip install speechRecognition"
      ]
    },
    {
      "cell_type": "code",
      "source": [
        "import speech_recognition as spr"
      ],
      "metadata": {
        "id": "M1GSHe9ub-xe"
      },
      "execution_count": null,
      "outputs": []
    },
    {
      "cell_type": "code",
      "source": [
        "recognizer=spr.Recognizer()"
      ],
      "metadata": {
        "id": "7ZKrcVPQcFsj"
      },
      "execution_count": null,
      "outputs": []
    },
    {
      "cell_type": "code",
      "source": [
        "proverb1=spr.AudioFile('/content/recording2023-10-08 17-47-5.wav')"
      ],
      "metadata": {
        "id": "i1KGHmi64j-2"
      },
      "execution_count": null,
      "outputs": []
    },
    {
      "cell_type": "code",
      "source": [
        "with proverb1 as source:\n",
        "  proverb1 = recognizer.record(source,duration=40,offset=11)"
      ],
      "metadata": {
        "id": "R1vqt667cjpN"
      },
      "execution_count": null,
      "outputs": []
    },
    {
      "cell_type": "code",
      "source": [
        "text = recognizer.recognize_google(proverb1, language=\"ta-IN\")\n",
        "print(text)"
      ],
      "metadata": {
        "colab": {
          "base_uri": "https://localhost:8080/"
        },
        "id": "dFgzvac-HBGS",
        "outputId": "2ca2cb28-ba3d-41f2-f939-ac0c2016cd5d"
      },
      "execution_count": null,
      "outputs": [
        {
          "output_type": "stream",
          "name": "stdout",
          "text": [
            "ரொம்ப தூரம் நடந்து போச்சு அப்படி போகும்போது இரண்டு தவளைகளும் மட்டும் ஒரு பெரிய கூலிக்கு உள்ள விழுந்துச்சு அந்த குழி ரொம்ப இருட்டாகவும் ரொம்ப ஆழமாகவும் இருந்துச்சு அதனால ரெண்டு தவளைகளும் ரொம்ப பயந்து போச்சு இரண்டு தவளைகளும் வெளியே வர எம்பி குதிச்சு பாத்துச்சு ஆனா அந்த குழி ரொம்ப ஆழமா இருந்தா இருந்ததால் அவர்களால் வெளியே வர முடியல\n"
          ]
        }
      ]
    },
    {
      "cell_type": "code",
      "source": [
        "with open ('writeme.txt', 'w') as file:\n",
        "    file.write(text)"
      ],
      "metadata": {
        "id": "OIYQkkajHO7q"
      },
      "execution_count": null,
      "outputs": []
    },
    {
      "cell_type": "code",
      "source": [
        "!pip install googletrans==3.1.0a0"
      ],
      "metadata": {
        "colab": {
          "base_uri": "https://localhost:8080/",
          "height": 949
        },
        "id": "cHKKFEKsIeks",
        "outputId": "f802ee87-0752-4d15-a5e6-3de4df9315aa"
      },
      "execution_count": null,
      "outputs": [
        {
          "output_type": "stream",
          "name": "stdout",
          "text": [
            "Collecting googletrans==3.1.0a0\n",
            "  Downloading googletrans-3.1.0a0.tar.gz (19 kB)\n",
            "  Preparing metadata (setup.py) ... \u001b[?25l\u001b[?25hdone\n",
            "Collecting httpx==0.13.3 (from googletrans==3.1.0a0)\n",
            "  Downloading httpx-0.13.3-py3-none-any.whl (55 kB)\n",
            "\u001b[2K     \u001b[90m━━━━━━━━━━━━━━━━━━━━━━━━━━━━━━━━━━━━━━━━\u001b[0m \u001b[32m55.1/55.1 kB\u001b[0m \u001b[31m2.4 MB/s\u001b[0m eta \u001b[36m0:00:00\u001b[0m\n",
            "\u001b[?25hRequirement already satisfied: certifi in /usr/local/lib/python3.10/dist-packages (from httpx==0.13.3->googletrans==3.1.0a0) (2023.7.22)\n",
            "Collecting hstspreload (from httpx==0.13.3->googletrans==3.1.0a0)\n",
            "  Downloading hstspreload-2023.1.1-py3-none-any.whl (1.5 MB)\n",
            "\u001b[2K     \u001b[90m━━━━━━━━━━━━━━━━━━━━━━━━━━━━━━━━━━━━━━━━\u001b[0m \u001b[32m1.5/1.5 MB\u001b[0m \u001b[31m23.9 MB/s\u001b[0m eta \u001b[36m0:00:00\u001b[0m\n",
            "\u001b[?25hRequirement already satisfied: sniffio in /usr/local/lib/python3.10/dist-packages (from httpx==0.13.3->googletrans==3.1.0a0) (1.3.0)\n",
            "Collecting chardet==3.* (from httpx==0.13.3->googletrans==3.1.0a0)\n",
            "  Downloading chardet-3.0.4-py2.py3-none-any.whl (133 kB)\n",
            "\u001b[2K     \u001b[90m━━━━━━━━━━━━━━━━━━━━━━━━━━━━━━━━━━━━━━\u001b[0m \u001b[32m133.4/133.4 kB\u001b[0m \u001b[31m14.2 MB/s\u001b[0m eta \u001b[36m0:00:00\u001b[0m\n",
            "\u001b[?25hCollecting idna==2.* (from httpx==0.13.3->googletrans==3.1.0a0)\n",
            "  Downloading idna-2.10-py2.py3-none-any.whl (58 kB)\n",
            "\u001b[2K     \u001b[90m━━━━━━━━━━━━━━━━━━━━━━━━━━━━━━━━━━━━━━━━\u001b[0m \u001b[32m58.8/58.8 kB\u001b[0m \u001b[31m6.5 MB/s\u001b[0m eta \u001b[36m0:00:00\u001b[0m\n",
            "\u001b[?25hCollecting rfc3986<2,>=1.3 (from httpx==0.13.3->googletrans==3.1.0a0)\n",
            "  Downloading rfc3986-1.5.0-py2.py3-none-any.whl (31 kB)\n",
            "Collecting httpcore==0.9.* (from httpx==0.13.3->googletrans==3.1.0a0)\n",
            "  Downloading httpcore-0.9.1-py3-none-any.whl (42 kB)\n",
            "\u001b[2K     \u001b[90m━━━━━━━━━━━━━━━━━━━━━━━━━━━━━━━━━━━━━━━━\u001b[0m \u001b[32m42.6/42.6 kB\u001b[0m \u001b[31m5.0 MB/s\u001b[0m eta \u001b[36m0:00:00\u001b[0m\n",
            "\u001b[?25hCollecting h11<0.10,>=0.8 (from httpcore==0.9.*->httpx==0.13.3->googletrans==3.1.0a0)\n",
            "  Downloading h11-0.9.0-py2.py3-none-any.whl (53 kB)\n",
            "\u001b[2K     \u001b[90m━━━━━━━━━━━━━━━━━━━━━━━━━━━━━━━━━━━━━━━━\u001b[0m \u001b[32m53.6/53.6 kB\u001b[0m \u001b[31m6.0 MB/s\u001b[0m eta \u001b[36m0:00:00\u001b[0m\n",
            "\u001b[?25hCollecting h2==3.* (from httpcore==0.9.*->httpx==0.13.3->googletrans==3.1.0a0)\n",
            "  Downloading h2-3.2.0-py2.py3-none-any.whl (65 kB)\n",
            "\u001b[2K     \u001b[90m━━━━━━━━━━━━━━━━━━━━━━━━━━━━━━━━━━━━━━━━\u001b[0m \u001b[32m65.0/65.0 kB\u001b[0m \u001b[31m7.8 MB/s\u001b[0m eta \u001b[36m0:00:00\u001b[0m\n",
            "\u001b[?25hCollecting hyperframe<6,>=5.2.0 (from h2==3.*->httpcore==0.9.*->httpx==0.13.3->googletrans==3.1.0a0)\n",
            "  Downloading hyperframe-5.2.0-py2.py3-none-any.whl (12 kB)\n",
            "Collecting hpack<4,>=3.0 (from h2==3.*->httpcore==0.9.*->httpx==0.13.3->googletrans==3.1.0a0)\n",
            "  Downloading hpack-3.0.0-py2.py3-none-any.whl (38 kB)\n",
            "Building wheels for collected packages: googletrans\n",
            "  Building wheel for googletrans (setup.py) ... \u001b[?25l\u001b[?25hdone\n",
            "  Created wheel for googletrans: filename=googletrans-3.1.0a0-py3-none-any.whl size=16352 sha256=4d5b10ecb6c85512691ae675e36cd01db62e77f2a13d6b05b21ff41f6898e0a1\n",
            "  Stored in directory: /root/.cache/pip/wheels/50/5d/3c/8477d0af4ca2b8b1308812c09f1930863caeebc762fe265a95\n",
            "Successfully built googletrans\n",
            "Installing collected packages: rfc3986, hyperframe, hpack, h11, chardet, idna, hstspreload, h2, httpcore, httpx, googletrans\n",
            "  Attempting uninstall: chardet\n",
            "    Found existing installation: chardet 5.2.0\n",
            "    Uninstalling chardet-5.2.0:\n",
            "      Successfully uninstalled chardet-5.2.0\n",
            "  Attempting uninstall: idna\n",
            "    Found existing installation: idna 3.4\n",
            "    Uninstalling idna-3.4:\n",
            "      Successfully uninstalled idna-3.4\n",
            "Successfully installed chardet-3.0.4 googletrans-3.1.0a0 h11-0.9.0 h2-3.2.0 hpack-3.0.0 hstspreload-2023.1.1 httpcore-0.9.1 httpx-0.13.3 hyperframe-5.2.0 idna-2.10 rfc3986-1.5.0\n"
          ]
        },
        {
          "output_type": "display_data",
          "data": {
            "application/vnd.colab-display-data+json": {
              "pip_warning": {
                "packages": [
                  "chardet",
                  "idna"
                ]
              }
            }
          },
          "metadata": {}
        }
      ]
    },
    {
      "cell_type": "code",
      "source": [
        "from googletrans import Translator\n",
        "\n",
        "file_translate = Translator()"
      ],
      "metadata": {
        "id": "Ez0A6IK3IjbH"
      },
      "execution_count": null,
      "outputs": []
    },
    {
      "cell_type": "code",
      "source": [
        "result = file_translate.translate(text)\n",
        "print(result.text)"
      ],
      "metadata": {
        "colab": {
          "base_uri": "https://localhost:8080/"
        },
        "id": "VhrQdbwXInal",
        "outputId": "e5c9bfa9-5b15-45af-f58d-55122660b195"
      },
      "execution_count": null,
      "outputs": [
        {
          "output_type": "stream",
          "name": "stdout",
          "text": [
            "After walking for a long distance, the two frogs fell into a big hole and the hole was very dark and very deep, so the two frogs got very scared and the two frogs jumped out, but they could not get out because the hole was too deep.\n"
          ]
        }
      ]
    },
    {
      "cell_type": "code",
      "source": [
        "with open ('speechme.txt', 'w') as file:\n",
        "    file.write(result.text)"
      ],
      "metadata": {
        "id": "NRJN4f8eIgkh"
      },
      "execution_count": null,
      "outputs": []
    },
    {
      "cell_type": "code",
      "source": [],
      "metadata": {
        "id": "GymS0IK2K_Jt"
      },
      "execution_count": null,
      "outputs": []
    },
    {
      "cell_type": "markdown",
      "source": [
        "TRY\n"
      ],
      "metadata": {
        "id": "vT4ltM10HUNB"
      }
    },
    {
      "cell_type": "code",
      "source": [
        "with proverb1 as source:\n",
        "  proverb1 = recognizer.record(source,duration=60,offset=11)"
      ],
      "metadata": {
        "id": "mkt3iWCp4s5B"
      },
      "execution_count": null,
      "outputs": []
    },
    {
      "cell_type": "code",
      "source": [
        "text = recognizer.recognize_google(proverb, language=\"ta-IN\")\n",
        "print(text)"
      ],
      "metadata": {
        "colab": {
          "base_uri": "https://localhost:8080/"
        },
        "id": "pmRK_d8ncsxl",
        "outputId": "fdeb34e1-769f-4f8b-b0c4-59d26016271c"
      },
      "execution_count": null,
      "outputs": [
        {
          "output_type": "stream",
          "name": "stdout",
          "text": [
            "உன்னாலே உன்னாலே என்னுள்ளே இன்பம் உண்டென்றும் கண்டேன் நான் தான் நீ வந்த பின்னாலே என் சுவாசம் என்று உன் காதல் கொண்டேன் ஒளியில்லா இசையில் நரைக்காத மழையில் உன்னோடு உன்னோடு நான் ஏன் நாடினேன் வழியில்லாத திசையில் ஒளியில்லா உலகில்\n"
          ]
        }
      ]
    },
    {
      "cell_type": "code",
      "source": [
        "text1 = recognizer.recognize_google(proverb1, language=\"ta-IN\")\n",
        "print(text1)"
      ],
      "metadata": {
        "colab": {
          "base_uri": "https://localhost:8080/"
        },
        "id": "CAull7FI5QlT",
        "outputId": "07b4929b-ced2-4fb6-d7eb-a266f4e93b90"
      },
      "execution_count": null,
      "outputs": [
        {
          "output_type": "stream",
          "name": "stdout",
          "text": [
            "தெரிஞ்சுக்கணும் அப்படின்னு சொல்லிட்டு ஆனா 2022 சொல்றப்ப அதை பாக்குறதுக்கு நீங்களும் ஒருக்கா போறீங்க இருக்க மாட்டீங்க நானும் இருக்க மாட்டேன் ஆனா எர்த் வந்து மோத போகுது டைனோசர் வந்து அடிச்ச மாதிரி வந்து ஒரு மிகப்பெரிய பிரச்சனையா ஏற்படுமா இந்த கல்லோட காம்போசிஷன் எப்படி இருக்குது எத்தனை நாள் இதை தகர்க்க முடியுமா இதுல என்னென்ன விஷயங்கள் இருக்குது எல்லாத்தையுமே தெரிஞ்சுக்கிறதுக்கு நாசா வந்து என்ன பண்றாங்கன்னு பார்த்தீங்கன்னா ஒரு பார்ட்டிக்கு உள்ளார் ஸ்பேஸ்\n"
          ]
        }
      ]
    },
    {
      "cell_type": "code",
      "source": [
        "with open ('writeme.txt', 'w') as file:\n",
        "    file.write(text)"
      ],
      "metadata": {
        "id": "fq3lt77bfI5a"
      },
      "execution_count": null,
      "outputs": []
    },
    {
      "cell_type": "code",
      "source": [
        "with open ('writeme.txt', 'w') as file:\n",
        "    file.write(text1)"
      ],
      "metadata": {
        "id": "oEEKSq9c5XLb"
      },
      "execution_count": null,
      "outputs": []
    },
    {
      "cell_type": "code",
      "source": [
        "file1 = open(\"writeme.txt\",\"r\")\n",
        "text = file1.read()\n",
        "print(text)"
      ],
      "metadata": {
        "colab": {
          "base_uri": "https://localhost:8080/"
        },
        "id": "0XV3kAp8gFwM",
        "outputId": "e881b31c-1934-4920-97e0-fdf27505a259"
      },
      "execution_count": null,
      "outputs": [
        {
          "output_type": "stream",
          "name": "stdout",
          "text": [
            "உன்னாலே உன்னாலே என்னுள்ளே இன்பம் உண்டென்றும் கண்டேன் நான் தான் நீ வந்த பின்னாலே என் சுவாசம் என்று உன் காதல் கொண்டேன் ஒளியில்லா இசையில் நரைக்காத மழையில் உன்னோடு உன்னோடு நான் ஏன் நாடினேன் வழியில்லாத திசையில் ஒளியில்லா உலகில்\n"
          ]
        }
      ]
    },
    {
      "cell_type": "code",
      "source": [
        "file1 = open(\"writeme.txt\",\"r\")\n",
        "text = file1.read()\n",
        "print(text)"
      ],
      "metadata": {
        "colab": {
          "base_uri": "https://localhost:8080/"
        },
        "id": "B7mEwB5x5bgy",
        "outputId": "ca7e38b0-7427-4306-dd97-3b8f61b98b15"
      },
      "execution_count": null,
      "outputs": [
        {
          "output_type": "stream",
          "name": "stdout",
          "text": [
            "தெரிஞ்சுக்கணும் அப்படின்னு சொல்லிட்டு ஆனா 2022 சொல்றப்ப அதை பாக்குறதுக்கு நீங்களும் ஒருக்கா போறீங்க இருக்க மாட்டீங்க நானும் இருக்க மாட்டேன் ஆனா எர்த் வந்து மோத போகுது டைனோசர் வந்து அடிச்ச மாதிரி வந்து ஒரு மிகப்பெரிய பிரச்சனையா ஏற்படுமா இந்த கல்லோட காம்போசிஷன் எப்படி இருக்குது எத்தனை நாள் இதை தகர்க்க முடியுமா இதுல என்னென்ன விஷயங்கள் இருக்குது எல்லாத்தையுமே தெரிஞ்சுக்கிறதுக்கு நாசா வந்து என்ன பண்றாங்கன்னு பார்த்தீங்கன்னா ஒரு பார்ட்டிக்கு உள்ளார் ஸ்பேஸ்\n"
          ]
        }
      ]
    },
    {
      "cell_type": "code",
      "source": [
        "!pip install googletrans==3.1.0a0"
      ],
      "metadata": {
        "colab": {
          "base_uri": "https://localhost:8080/"
        },
        "id": "2mUPII1Fojbs",
        "outputId": "933d5437-d4db-43e3-a08f-b7a172ba00e8"
      },
      "execution_count": null,
      "outputs": [
        {
          "output_type": "stream",
          "name": "stdout",
          "text": [
            "Requirement already satisfied: googletrans==3.1.0a0 in /usr/local/lib/python3.10/dist-packages (3.1.0a0)\n",
            "Requirement already satisfied: httpx==0.13.3 in /usr/local/lib/python3.10/dist-packages (from googletrans==3.1.0a0) (0.13.3)\n",
            "Requirement already satisfied: certifi in /usr/local/lib/python3.10/dist-packages (from httpx==0.13.3->googletrans==3.1.0a0) (2023.7.22)\n",
            "Requirement already satisfied: hstspreload in /usr/local/lib/python3.10/dist-packages (from httpx==0.13.3->googletrans==3.1.0a0) (2023.1.1)\n",
            "Requirement already satisfied: sniffio in /usr/local/lib/python3.10/dist-packages (from httpx==0.13.3->googletrans==3.1.0a0) (1.3.0)\n",
            "Requirement already satisfied: chardet==3.* in /usr/local/lib/python3.10/dist-packages (from httpx==0.13.3->googletrans==3.1.0a0) (3.0.4)\n",
            "Requirement already satisfied: idna==2.* in /usr/local/lib/python3.10/dist-packages (from httpx==0.13.3->googletrans==3.1.0a0) (2.10)\n",
            "Requirement already satisfied: rfc3986<2,>=1.3 in /usr/local/lib/python3.10/dist-packages (from httpx==0.13.3->googletrans==3.1.0a0) (1.5.0)\n",
            "Requirement already satisfied: httpcore==0.9.* in /usr/local/lib/python3.10/dist-packages (from httpx==0.13.3->googletrans==3.1.0a0) (0.9.1)\n",
            "Requirement already satisfied: h11<0.10,>=0.8 in /usr/local/lib/python3.10/dist-packages (from httpcore==0.9.*->httpx==0.13.3->googletrans==3.1.0a0) (0.9.0)\n",
            "Requirement already satisfied: h2==3.* in /usr/local/lib/python3.10/dist-packages (from httpcore==0.9.*->httpx==0.13.3->googletrans==3.1.0a0) (3.2.0)\n",
            "Requirement already satisfied: hyperframe<6,>=5.2.0 in /usr/local/lib/python3.10/dist-packages (from h2==3.*->httpcore==0.9.*->httpx==0.13.3->googletrans==3.1.0a0) (5.2.0)\n",
            "Requirement already satisfied: hpack<4,>=3.0 in /usr/local/lib/python3.10/dist-packages (from h2==3.*->httpcore==0.9.*->httpx==0.13.3->googletrans==3.1.0a0) (3.0.0)\n"
          ]
        }
      ]
    },
    {
      "cell_type": "code",
      "source": [
        "from googletrans import Translator\n",
        "\n",
        "file_translate = Translator()"
      ],
      "metadata": {
        "id": "qgcpZSfLnDYv"
      },
      "execution_count": null,
      "outputs": []
    },
    {
      "cell_type": "code",
      "source": [
        "result = file_translate.translate(text)\n",
        "print(result.text)"
      ],
      "metadata": {
        "colab": {
          "base_uri": "https://localhost:8080/"
        },
        "id": "29HnnHCBnVNY",
        "outputId": "e6d2a411-64c6-47b0-8976-77eec6d244cd"
      },
      "execution_count": null,
      "outputs": [
        {
          "output_type": "stream",
          "name": "stdout",
          "text": [
            "I want to know. But when you say 2022, you and I won't be there to see it. I won't be there either. But the Earth is going to come and collide. Will there be a huge problem like a dinosaur coming and hitting? You see, there is space for a party\n"
          ]
        }
      ]
    },
    {
      "cell_type": "code",
      "source": [
        "with open ('speechme.txt', 'w') as file:\n",
        "    file.write(result.text)"
      ],
      "metadata": {
        "id": "egajDR_xNSjx"
      },
      "execution_count": null,
      "outputs": []
    },
    {
      "cell_type": "code",
      "source": [
        "proverb1=spr.AudioFile('/content/audio.flac')"
      ],
      "metadata": {
        "id": "KQ83v4DodF7e"
      },
      "execution_count": null,
      "outputs": []
    },
    {
      "cell_type": "code",
      "source": [
        "with proverb1 as source:\n",
        "  proverb1 = recognizer.record(source,duration=60,offset=11)"
      ],
      "metadata": {
        "id": "WRe8VsYfdGPB"
      },
      "execution_count": null,
      "outputs": []
    },
    {
      "cell_type": "code",
      "source": [
        "text1 = recognizer.recognize_google(proverb1, language=\"hi-IN\")"
      ],
      "metadata": {
        "colab": {
          "base_uri": "https://localhost:8080/"
        },
        "id": "C15deBn9dGuX",
        "outputId": "2322b458-538d-4cc4-ec25-cbe7c0cd5d6a"
      },
      "execution_count": null,
      "outputs": [
        {
          "output_type": "stream",
          "name": "stdout",
          "text": [
            "result2:\n",
            "{   'alternative': [   {   'confidence': 0.8967669,\n",
            "                           'transcript': 'सर कभी ना कह सकूं मैं तुमको कहे बिना '\n",
            "                                         'समझ लो तुम शायद शायद मेरे ख्याल में '\n",
            "                                         'तुम निकलो मुझे कहीं भी घूम शायद जो '\n",
            "                                         'तुम ना हो रहेंगे हम झूठ बोलेंगे हम '\n",
            "                                         'नहीं चाहिए कुछ ज्यादा तुमसे कम नही '\n",
            "                                         'जो तू ना हो तो हम भी हम नहीं'},\n",
            "                       {   'transcript': 'सर कभी ना कह सकूं मैं तुमको कहे बिना '\n",
            "                                         'समझ लो तुम शायद शायद मेरे ख्याल में '\n",
            "                                         'तुम निकलो मुझे कहीं भी घूम शायद जो '\n",
            "                                         'तुम ना हो रहेंगे हम जो कहेंगे हम '\n",
            "                                         'नहीं चाहिए कुछ ज्यादा तुमसे कम नही '\n",
            "                                         'जो तू ना हो तो हम भी हम नहीं'},\n",
            "                       {   'transcript': 'सर कभी न कह सकूं मैं तुमको कहे बिना '\n",
            "                                         'समझ लो तुम शायद शायद मेरे ख्याल में '\n",
            "                                         'तुम निकलो मुझे कहीं गुम शायद जो तुम '\n",
            "                                         'ना हो रहेंगे हम झूठ बोलेंगे हम नहीं '\n",
            "                                         'चाहिए कुछ ज्यादा तुमसे कम नही जो तू '\n",
            "                                         'ना हो तो हम भी हम नहीं'},\n",
            "                       {   'transcript': 'सर कभी न कह सकूं मैं तुमको कहे बिना '\n",
            "                                         'समझ लो तुम शायद शायद मेरे ख्याल में '\n",
            "                                         'तुम निकलो मुझे कहीं भी घूम शायद जो '\n",
            "                                         'तुम ना हो रहेंगे हम झूठ बोलेंगे हम '\n",
            "                                         'नहीं चाहिए कुछ ज्यादा तुमसे कम नही '\n",
            "                                         'जो तू ना हो तो हम भी हम नहीं'},\n",
            "                       {   'transcript': 'सर कभी न कह सकूं मैं तुमको कहे बिना '\n",
            "                                         'समझ लो तुम शायद शायद मेरे ख्याल में '\n",
            "                                         'तुम निकलो मुझे कहीं भी घूम शायद जो '\n",
            "                                         'तुम ना हो रहेंगे हम जो कहेंगे हम '\n",
            "                                         'नहीं चाहिए कुछ ज्यादा तुमसे कम नही '\n",
            "                                         'जो तू ना हो तो हम भी हम नहीं'}],\n",
            "    'final': True}\n"
          ]
        }
      ]
    },
    {
      "cell_type": "code",
      "source": [
        "print(text1)"
      ],
      "metadata": {
        "colab": {
          "base_uri": "https://localhost:8080/"
        },
        "id": "39MVfuK7dUTa",
        "outputId": "94fe379b-2670-489f-c423-aa2641b8606f"
      },
      "execution_count": null,
      "outputs": [
        {
          "output_type": "stream",
          "name": "stdout",
          "text": [
            "सर कभी ना कह सकूं मैं तुमको कहे बिना समझ लो तुम शायद शायद मेरे ख्याल में तुम निकलो मुझे कहीं भी घूम शायद जो तुम ना हो रहेंगे हम झूठ बोलेंगे हम नहीं चाहिए कुछ ज्यादा तुमसे कम नही जो तू ना हो तो हम भी हम नहीं\n"
          ]
        }
      ]
    }
  ]
}